{
 "cells": [
  {
   "cell_type": "code",
   "execution_count": 3,
   "metadata": {},
   "outputs": [
    {
     "name": "stdout",
     "output_type": "stream",
     "text": [
      "Requirement already satisfied: transformers in c:\\users\\sudharsan ramesh\\anaconda3\\lib\\site-packages (4.27.4)\n",
      "Requirement already satisfied: numpy>=1.17 in c:\\users\\sudharsan ramesh\\anaconda3\\lib\\site-packages (from transformers) (1.21.6)\n",
      "Requirement already satisfied: tokenizers!=0.11.3,<0.14,>=0.11.1 in c:\\users\\sudharsan ramesh\\anaconda3\\lib\\site-packages (from transformers) (0.13.2)\n",
      "Requirement already satisfied: filelock in c:\\users\\sudharsan ramesh\\anaconda3\\lib\\site-packages (from transformers) (3.0.12)\n",
      "Requirement already satisfied: tqdm>=4.27 in c:\\users\\sudharsan ramesh\\anaconda3\\lib\\site-packages (from transformers) (4.42.1)\n",
      "Requirement already satisfied: importlib-metadata; python_version < \"3.8\" in c:\\users\\sudharsan ramesh\\anaconda3\\lib\\site-packages (from transformers) (6.4.1)\n",
      "Requirement already satisfied: pyyaml>=5.1 in c:\\users\\sudharsan ramesh\\anaconda3\\lib\\site-packages (from transformers) (5.3)\n",
      "Requirement already satisfied: packaging>=20.0 in c:\\users\\sudharsan ramesh\\anaconda3\\lib\\site-packages (from transformers) (23.0)\n",
      "Requirement already satisfied: requests in c:\\users\\sudharsan ramesh\\anaconda3\\lib\\site-packages (from transformers) (2.22.0)\n",
      "Requirement already satisfied: regex!=2019.12.17 in c:\\users\\sudharsan ramesh\\anaconda3\\lib\\site-packages (from transformers) (2022.10.31)\n",
      "Requirement already satisfied: huggingface-hub<1.0,>=0.11.0 in c:\\users\\sudharsan ramesh\\anaconda3\\lib\\site-packages (from transformers) (0.13.3)\n",
      "Requirement already satisfied: typing-extensions>=3.6.4; python_version < \"3.8\" in c:\\users\\sudharsan ramesh\\anaconda3\\lib\\site-packages (from importlib-metadata; python_version < \"3.8\"->transformers) (4.4.0)\n",
      "Requirement already satisfied: zipp>=0.5 in c:\\users\\sudharsan ramesh\\anaconda3\\lib\\site-packages (from importlib-metadata; python_version < \"3.8\"->transformers) (2.2.0)\n",
      "Requirement already satisfied: urllib3!=1.25.0,!=1.25.1,<1.26,>=1.21.1 in c:\\users\\sudharsan ramesh\\anaconda3\\lib\\site-packages (from requests->transformers) (1.25.8)\n",
      "Requirement already satisfied: chardet<3.1.0,>=3.0.2 in c:\\users\\sudharsan ramesh\\anaconda3\\lib\\site-packages (from requests->transformers) (3.0.4)\n",
      "Requirement already satisfied: certifi>=2017.4.17 in c:\\users\\sudharsan ramesh\\anaconda3\\lib\\site-packages (from requests->transformers) (2019.11.28)\n",
      "Requirement already satisfied: idna<2.9,>=2.5 in c:\\users\\sudharsan ramesh\\anaconda3\\lib\\site-packages (from requests->transformers) (2.8)\n"
     ]
    },
    {
     "name": "stderr",
     "output_type": "stream",
     "text": [
      "Keyring is skipped due to an exception: 'keyring.backends'\n"
     ]
    }
   ],
   "source": [
    "!pip install transformers"
   ]
  },
  {
   "cell_type": "code",
   "execution_count": 4,
   "metadata": {},
   "outputs": [
    {
     "name": "stderr",
     "output_type": "stream",
     "text": [
      "No model was supplied, defaulted to distilbert-base-cased-distilled-squad and revision 626af31 (https://huggingface.co/distilbert-base-cased-distilled-squad).\n",
      "Using a pipeline without specifying a model name and revision in production is not recommended.\n"
     ]
    },
    {
     "name": "stdout",
     "output_type": "stream",
     "text": [
      "Q: What is the paragraph about?\n",
      "A: Lorem ipsum dolor sit amet\n",
      "\n",
      "\n",
      "Q: What animal jumps over the lazy dog?\n",
      "A: brown fox\n",
      "\n",
      "\n",
      "Q: What is Lorem ipsum?\n",
      "A: dolor sit amet\n",
      "\n",
      "\n",
      "Q: What is the meaning of the word dignissim?\n",
      "A: Duis elementum erat nec aliquam\n",
      "\n",
      "\n",
      "Q: What does Duis elementum mean?\n",
      "A: erat nec aliquam dignissim\n",
      "\n",
      "\n"
     ]
    }
   ],
   "source": [
    "from transformers import pipeline\n",
    "\n",
    "qa_pipeline = pipeline(\"question-answering\")\n",
    "\n",
    "paragraph = \"The quick brown fox jumps over the lazy dog. Lorem ipsum dolor sit amet, consectetur adipiscing elit. Sed ac urna magna. Integer euismod lorem vel magna dignissim, sit amet consequat urna convallis. Vestibulum blandit mollis elit, eget pulvinar velit volutpat ac. Duis elementum erat nec aliquam dignissim.\"\n",
    "\n",
    "# Generate questions and answers from the paragraph\n",
    "questions = [\"What is the paragraph about?\", \"What animal jumps over the lazy dog?\", \"What is Lorem ipsum?\", \"What is the meaning of the word dignissim?\", \"What does Duis elementum mean?\"]\n",
    "answers = []\n",
    "\n",
    "for question in questions:\n",
    "    result = qa_pipeline(question=question, context=paragraph)\n",
    "    answers.append(result[\"answer\"])\n",
    "    \n",
    "# Print the questions and answers\n",
    "for i in range(len(questions)):\n",
    "    print(\"Q:\", questions[i])\n",
    "    print(\"A:\", answers[i])\n",
    "    print(\"\\n\")\n"
   ]
  },
  {
   "cell_type": "code",
   "execution_count": 5,
   "metadata": {},
   "outputs": [
    {
     "name": "stderr",
     "output_type": "stream",
     "text": [
      "No model was supplied, defaulted to distilbert-base-cased-distilled-squad and revision 626af31 (https://huggingface.co/distilbert-base-cased-distilled-squad).\n",
      "Using a pipeline without specifying a model name and revision in production is not recommended.\n"
     ]
    },
    {
     "name": "stdout",
     "output_type": "stream",
     "text": [
      "Washington, D.C.\n"
     ]
    }
   ],
   "source": [
    "from transformers import pipeline\n",
    "\n",
    "# Load the QA model\n",
    "qa = pipeline('question-answering')\n",
    "\n",
    "# Example paragraph\n",
    "paragraph = \"The United States of America, commonly known as the United States or America, is a country primarily located in North America. It consists of 50 states, a federal district, five major self-governing territories, 326 Indian reservations, and some minor possessions. The capital is Washington, D.C., and the most populous city is New York City.\"\n",
    "\n",
    "# Ask a question\n",
    "question = \"What is the capital of the United States?\"\n",
    "result = qa(question=question, context=paragraph)\n",
    "\n",
    "# Print the answer\n",
    "print(result['answer'])\n"
   ]
  },
  {
   "cell_type": "code",
   "execution_count": 6,
   "metadata": {},
   "outputs": [
    {
     "name": "stdout",
     "output_type": "stream",
     "text": [
      "Question: Paris is the capital of France. It is located in the north-central part of the country on the Seine river.\n"
     ]
    }
   ],
   "source": [
    "from transformers import pipeline\n",
    "\n",
    "paragraph = \"Paris is the capital of France. It is located in the north-central part of the country on the Seine river. Paris has a population of over 2 million people.\"\n",
    "\n",
    "text_generator = pipeline(\"text2text-generation\", model=\"t5-small\", tokenizer=\"t5-small\")\n",
    "\n",
    "questions = text_generator(paragraph, max_length=30, do_sample=False)\n",
    "\n",
    "for question_answer in questions:\n",
    "    print(\"Question:\", question_answer[\"generated_text\"].strip())\n"
   ]
  },
  {
   "cell_type": "code",
   "execution_count": 7,
   "metadata": {},
   "outputs": [
    {
     "name": "stdout",
     "output_type": "stream",
     "text": [
      "Requirement already satisfied: transformers in c:\\users\\sudharsan ramesh\\anaconda3\\lib\\site-packages (4.27.4)\n",
      "Requirement already satisfied: requests in c:\\users\\sudharsan ramesh\\anaconda3\\lib\\site-packages (from transformers) (2.22.0)\n",
      "Requirement already satisfied: packaging>=20.0 in c:\\users\\sudharsan ramesh\\anaconda3\\lib\\site-packages (from transformers) (23.0)\n",
      "Requirement already satisfied: pyyaml>=5.1 in c:\\users\\sudharsan ramesh\\anaconda3\\lib\\site-packages (from transformers) (5.3)\n",
      "Requirement already satisfied: regex!=2019.12.17 in c:\\users\\sudharsan ramesh\\anaconda3\\lib\\site-packages (from transformers) (2022.10.31)\n",
      "Requirement already satisfied: importlib-metadata; python_version < \"3.8\" in c:\\users\\sudharsan ramesh\\anaconda3\\lib\\site-packages (from transformers) (6.4.1)\n",
      "Requirement already satisfied: tokenizers!=0.11.3,<0.14,>=0.11.1 in c:\\users\\sudharsan ramesh\\anaconda3\\lib\\site-packages (from transformers) (0.13.2)\n",
      "Requirement already satisfied: filelock in c:\\users\\sudharsan ramesh\\anaconda3\\lib\\site-packages (from transformers) (3.0.12)\n",
      "Requirement already satisfied: numpy>=1.17 in c:\\users\\sudharsan ramesh\\anaconda3\\lib\\site-packages (from transformers) (1.21.6)\n",
      "Requirement already satisfied: tqdm>=4.27 in c:\\users\\sudharsan ramesh\\anaconda3\\lib\\site-packages (from transformers) (4.42.1)\n",
      "Requirement already satisfied: huggingface-hub<1.0,>=0.11.0 in c:\\users\\sudharsan ramesh\\anaconda3\\lib\\site-packages (from transformers) (0.13.3)\n",
      "Requirement already satisfied: idna<2.9,>=2.5 in c:\\users\\sudharsan ramesh\\anaconda3\\lib\\site-packages (from requests->transformers) (2.8)\n",
      "Requirement already satisfied: urllib3!=1.25.0,!=1.25.1,<1.26,>=1.21.1 in c:\\users\\sudharsan ramesh\\anaconda3\\lib\\site-packages (from requests->transformers) (1.25.8)\n",
      "Requirement already satisfied: certifi>=2017.4.17 in c:\\users\\sudharsan ramesh\\anaconda3\\lib\\site-packages (from requests->transformers) (2019.11.28)\n",
      "Requirement already satisfied: chardet<3.1.0,>=3.0.2 in c:\\users\\sudharsan ramesh\\anaconda3\\lib\\site-packages (from requests->transformers) (3.0.4)\n",
      "Requirement already satisfied: zipp>=0.5 in c:\\users\\sudharsan ramesh\\anaconda3\\lib\\site-packages (from importlib-metadata; python_version < \"3.8\"->transformers) (2.2.0)\n",
      "Requirement already satisfied: typing-extensions>=3.6.4; python_version < \"3.8\" in c:\\users\\sudharsan ramesh\\anaconda3\\lib\\site-packages (from importlib-metadata; python_version < \"3.8\"->transformers) (4.4.0)\n"
     ]
    },
    {
     "name": "stderr",
     "output_type": "stream",
     "text": [
      "Keyring is skipped due to an exception: 'keyring.backends'\n"
     ]
    }
   ],
   "source": [
    "! pip install transformers"
   ]
  },
  {
   "cell_type": "code",
   "execution_count": 8,
   "metadata": {},
   "outputs": [],
   "source": [
    "#load the required classes\n",
    "from transformers import AutoTokenizer, AutoModelForSeq2SeqLM"
   ]
  },
  {
   "cell_type": "code",
   "execution_count": 9,
   "metadata": {},
   "outputs": [],
   "source": [
    "#Initialize the Tokenizer and Model (very typical transformers process)¶\n",
    "\n",
    "tokenizer = AutoTokenizer.from_pretrained(\"allenai/macaw-large\") #300 million paramaters"
   ]
  },
  {
   "cell_type": "code",
   "execution_count": 10,
   "metadata": {},
   "outputs": [],
   "source": [
    "model = AutoModelForSeq2SeqLM.from_pretrained(\"allenai/macaw-large\") #300 million paramaters"
   ]
  },
  {
   "cell_type": "code",
   "execution_count": 31,
   "metadata": {},
   "outputs": [],
   "source": [
    "input_string = \"$context$ Rain is water droplets that have condensed from atmospheric water vapor and then fall under gravity. Rain is a major component of the water cycle and is responsible for depositing most of the fresh water on the Earth. It provides water for hydroelectric power plants, crop irrigation, and suitable conditions for many types of ecosystems. The major cause of rain production is moisture moving along three-dimensional zones of temperature and moisture contrasts known as weather fronts. If enough moisture and upward motion is present, precipitation falls from convective clouds (those with strong upward vertical motion) such as cumulonimbus (thunder clouds) which can organize into narrow rainbands. In mountainous areas, heavy precipitation is possible where upslope flow is maximized within windward sides of the terrain at elevation which forces moist air to condense and fall out as rainfall along the sides of mountains. On the leeward side of mountains, desert climates can exist due to the dry air caused by downslope flow which causes heating and drying of the air mass. The movement of the monsoon trough, or intertropical convergence zone, brings rainy seasons to savannah climes. $question?$\""
   ]
  },
  {
   "cell_type": "code",
   "execution_count": 32,
   "metadata": {},
   "outputs": [],
   "source": [
    "input_ids = tokenizer.encode(input_string, return_tensors=\"pt\")"
   ]
  },
  {
   "cell_type": "code",
   "execution_count": 33,
   "metadata": {},
   "outputs": [],
   "source": [
    "output = model.generate(input_ids, max_length=200)"
   ]
  },
  {
   "cell_type": "code",
   "execution_count": 34,
   "metadata": {},
   "outputs": [
    {
     "data": {
      "text/plain": [
       "['$question$ = Cumulonimbus clouds are made of water vapor. They fall from the clouds in a solid form. What is the cause of this precipitation?']"
      ]
     },
     "execution_count": 34,
     "metadata": {},
     "output_type": "execute_result"
    }
   ],
   "source": [
    "tokenizer.batch_decode(output, skip_special_tokens=True)"
   ]
  },
  {
   "cell_type": "code",
   "execution_count": 35,
   "metadata": {},
   "outputs": [
    {
     "data": {
      "text/plain": [
       "['$answer$ = clouds']"
      ]
     },
     "execution_count": 35,
     "metadata": {},
     "output_type": "execute_result"
    }
   ],
   "source": [
    "stmt1 = \" $answer$ ; $question$ = How rain comes? \"\n",
    "in_ids = tokenizer.encode(stmt1, return_tensors=\"pt\")\n",
    "out1 = model.generate(in_ids, max_length=200)\n",
    "tokenizer.batch_decode(out1, skip_special_tokens=True)"
   ]
  },
  {
   "cell_type": "code",
   "execution_count": 40,
   "metadata": {},
   "outputs": [
    {
     "data": {
      "text/plain": [
       "['$mcoptions$ = (A) blue (B) white (C) grey (D) white ; $answer$ = grey']"
      ]
     },
     "execution_count": 40,
     "metadata": {},
     "output_type": "execute_result"
    }
   ],
   "source": [
    "stmt2 = \" $mcoptions$ ; $answer$ ; $question$ = what is the colour of cloudy sky? \"\n",
    "in_ids2 = tokenizer.encode(stmt2, return_tensors=\"pt\")\n",
    "out2 = model.generate(in_ids2, max_length=200)\n",
    "tokenizer.batch_decode(out2, skip_special_tokens=True)"
   ]
  },
  {
   "cell_type": "code",
   "execution_count": 16,
   "metadata": {},
   "outputs": [
    {
     "name": "stdout",
     "output_type": "stream",
     "text": [
      "Q:  What is global warming?\n",
      "A:  $answer$ = when a body of water warms up due to the sun\n",
      "Q:  What causes global warming?\n",
      "A:  $answer$ = a rise in the temperature of the atmosphere\n",
      "Q:  How long has global warming been observed?\n",
      "A:  $answer$ = since the pre-industrial period\n",
      "Q:  What is the difference between global warming and climate change?\n",
      "A:  $answer$ = global warming is when a portion of the atmosphere warms due to human activity, while climate change is when a portion of the atmosphere cools due to human activity\n"
     ]
    }
   ],
   "source": [
    "tokenizer = AutoTokenizer.from_pretrained(\"allenai/macaw-large\") #300 million parameters\n",
    "model = AutoModelForSeq2SeqLM.from_pretrained(\"allenai/macaw-large\") #300 million parameters\n",
    "input_string = \"$answer$ Global warming is the long-term heating of Earth's surface observed since the pre-industrial period (between 1850 and 1900) due to human activities, primarily fossil fuel burning, which increases heat-trapping greenhouse gas levels in Earth's atmosphere. This term is not interchangeable with the term climate change. $question$\"\n",
    "questions = [\"What is global warming?\",\n",
    "             \"What causes global warming?\",\n",
    "             \"How long has global warming been observed?\",\n",
    "             \"What is the difference between global warming and climate change?\"]\n",
    "\n",
    "for question in questions:\n",
    "    input_string_with_question = input_string.replace(\"$question$\", question)\n",
    "    input_ids = tokenizer.encode(input_string_with_question, return_tensors=\"pt\")\n",
    "    output = model.generate(input_ids, max_length=200)\n",
    "    answer = tokenizer.decode(output[0], skip_special_tokens=True)\n",
    "    print(\"Q: \", question)\n",
    "    print(\"A: \", answer)\n"
   ]
  },
  {
   "cell_type": "code",
   "execution_count": 17,
   "metadata": {},
   "outputs": [
    {
     "name": "stdout",
     "output_type": "stream",
     "text": [
      "Q:  $question$. The change in ocean tides is one example of global warming.\n",
      "A:  $answer$ = causing it to increase\n",
      "\n",
      "Q:  $question$. Forests have been cut and burned so that the land can be used to raise crops. Which process causes the atmosphere to heat?\n",
      "A:  $answer$ = global warming\n",
      "\n",
      "Q:  $question$ = Global warming is when the atmosphere of Earth is heated by the sun.\n",
      "A:  $answer$ = ocean currents, lakes, and soil\n",
      "\n",
      "Q:  $question$. Many scientists think that global warming will change the way people live. In fact, global warming may cause changes in living things that are not caused by human activity.\n",
      "A:  $answer$ = ocean pollution\n",
      "\n"
     ]
    },
    {
     "name": "stderr",
     "output_type": "stream",
     "text": [
      "Token indices sequence length is longer than the specified maximum sequence length for this model (2889 > 512). Running this sequence through the model will result in indexing errors\n"
     ]
    },
    {
     "name": "stdout",
     "output_type": "stream",
     "text": [
      "Q:  $question$ = Which statement is a kind of question?\n",
      "A:  $answer$ =.................................................................................................\n",
      "\n"
     ]
    }
   ],
   "source": [
    "#tokenizer = AutoTokenizer.from_pretrained(\"allenai/macaw-large\")\n",
    "#model = AutoModelForSeq2SeqLM.from_pretrained(\"allenai/macaw-large\")\n",
    "\n",
    "input_string = \"Global warming is the long-term heating of Earth's surface observed since the pre-industrial period (between 1850 and 1900) due to human activities, primarily fossil fuel burning, which increases heat-trapping greenhouse gas levels in Earth's atmosphere. This term is not interchangeable with the term climate change. Climate change refers to the broader set of changes that go along with global warming, including changes in weather patterns, ecosystems, and oceans. It is caused by many factors, including natural processes and human activities such as deforestation and burning fossil fuels.\"\n",
    "\n",
    "sentences = input_string.split(\".\")\n",
    "\n",
    "for sentence in sentences:\n",
    "    input_string_with_answer = f\"$answer$ {sentence}.\"\n",
    "    input_ids = tokenizer.encode(input_string_with_answer, return_tensors=\"pt\")\n",
    "    output = model.generate(input_ids, max_length=200)\n",
    "    answer = tokenizer.decode(output[0], skip_special_tokens=True)\n",
    "    input_string_with_question = input_string.replace(sentence, \"$question$\")\n",
    "    input_ids = tokenizer.encode(input_string_with_question, return_tensors=\"pt\")\n",
    "    output = model.generate(input_ids, max_length=200)\n",
    "    question = tokenizer.decode(output[0], skip_special_tokens=True).replace(\"$answer$\", answer).strip()\n",
    "    print(\"Q: \", question)\n",
    "    print(\"A: \", answer)\n",
    "    print()\n"
   ]
  },
  {
   "cell_type": "code",
   "execution_count": 18,
   "metadata": {},
   "outputs": [],
   "source": [
    "import nltk\n",
    "from nltk import tokenize\n",
    "from nltk.tokenize import word_tokenize\n",
    "\n",
    "def extract_questions(text):\n",
    "    sentences = text.split('. ')  # split text into sentences by punctuation mark\n",
    "    for sentence in sentences:\n",
    "        tokens = word_tokenize(sentence)\n",
    "        if 'why' in tokens:\n",
    "            question = '.'.join(tokens[:-1]) + '?'\n",
    "            print('Question:', question)\n",
    "    return\n",
    "\n",
    "extract_questions(\"What is a computer? A computer is a machine that manipulates data according to a set of instructions. \")\n",
    "# Output: Question: What is a machine that manipulates data according to a set of instructions?"
   ]
  },
  {
   "cell_type": "code",
   "execution_count": null,
   "metadata": {},
   "outputs": [],
   "source": []
  }
 ],
 "metadata": {
  "kernelspec": {
   "display_name": "Python 3 (ipykernel)",
   "language": "python",
   "name": "python3"
  },
  "language_info": {
   "codemirror_mode": {
    "name": "ipython",
    "version": 3
   },
   "file_extension": ".py",
   "mimetype": "text/x-python",
   "name": "python",
   "nbconvert_exporter": "python",
   "pygments_lexer": "ipython3",
   "version": "3.9.12"
  }
 },
 "nbformat": 4,
 "nbformat_minor": 4
}
