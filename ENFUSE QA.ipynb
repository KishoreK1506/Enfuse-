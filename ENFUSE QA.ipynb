{
 "cells": [
  {
   "cell_type": "code",
   "execution_count": 1,
   "metadata": {},
   "outputs": [],
   "source": [
    "# Imports \n",
    "\n",
    "import numpy as np \n",
    "import pandas as pd \n",
    "import os\n"
   ]
  },
  {
   "cell_type": "code",
   "execution_count": 2,
   "metadata": {},
   "outputs": [
    {
     "name": "stdout",
     "output_type": "stream",
     "text": [
      "D:/Semester 2/ENFUSE/data/S10_question_answer_pairs.txt 832\n",
      "D:/Semester 2/ENFUSE/data/S09_question_answer_pairs.txt 598\n",
      "D:/Semester 2/ENFUSE/data/S08_question_answer_pairs.txt 1033\n"
     ]
    }
   ],
   "source": [
    "# Dataset Construction\n",
    "\n",
    "folder = 'D:/Semester 2/ENFUSE/data/'\n",
    "\n",
    "df = pd.DataFrame()\n",
    "for file in ['S10_question_answer_pairs.txt','S09_question_answer_pairs.txt','S08_question_answer_pairs.txt']:\n",
    "    filename = os.path.join(folder, file)\n",
    "    df_tmp = pd.read_csv(filename, encoding='latin1', sep='\\t').drop_duplicates(subset=\"Question\")\n",
    "    print(filename, len(df_tmp))\n",
    "    df = pd.concat([df,df_tmp])"
   ]
  },
  {
   "cell_type": "code",
   "execution_count": 4,
   "metadata": {},
   "outputs": [],
   "source": [
    "#df.info()"
   ]
  },
  {
   "cell_type": "markdown",
   "metadata": {},
   "source": [
    "# Data Cleaning"
   ]
  },
  {
   "cell_type": "code",
   "execution_count": 5,
   "metadata": {},
   "outputs": [],
   "source": [
    "# normalize the name of columns\n",
    "df.columns = ['articleTitle','question','answer','difficultyFromQuestioner',\n",
    "              'difficultyFromAnswerer','articleFile',\"articleTitle_to_drop\"]\n",
    "\n",
    "# drop the last column\n",
    "df.drop('articleTitle_to_drop', axis=1, inplace=True)"
   ]
  },
  {
   "cell_type": "code",
   "execution_count": 6,
   "metadata": {},
   "outputs": [
    {
     "data": {
      "text/plain": [
       "articleTitle                1631\n",
       "question                       2\n",
       "answer                       273\n",
       "difficultyFromQuestioner     893\n",
       "difficultyFromAnswerer       278\n",
       "articleFile                    2\n",
       "dtype: int64"
      ]
     },
     "execution_count": 6,
     "metadata": {},
     "output_type": "execute_result"
    }
   ],
   "source": [
    "# nb of na values in each column\n",
    "df.isna().sum()"
   ]
  },
  {
   "cell_type": "code",
   "execution_count": 7,
   "metadata": {},
   "outputs": [
    {
     "name": "stdout",
     "output_type": "stream",
     "text": [
      "original df length:  2463\n",
      "new df length:  511\n"
     ]
    }
   ],
   "source": [
    "# drop na values\n",
    "print('original df length: ',len(df))\n",
    "df.dropna(subset=['question'], inplace=True)\n",
    "df.dropna(subset=['answer'], inplace=True)\n",
    "df.dropna(subset=['articleTitle'], inplace=True)\n",
    "df = df[~df.question.str.contains('#')] # remove badly formatted questions\n",
    "df = df[~df.answer.isin(['no','yes','Yes','No','No,','Yes,','No.','Yes.','yes.','no.'])] # remove yes/no questions\n",
    "print('new df length: ',len(df))\n"
   ]
  },
  {
   "cell_type": "code",
   "execution_count": 8,
   "metadata": {},
   "outputs": [
    {
     "data": {
      "text/html": [
       "<div>\n",
       "<style scoped>\n",
       "    .dataframe tbody tr th:only-of-type {\n",
       "        vertical-align: middle;\n",
       "    }\n",
       "\n",
       "    .dataframe tbody tr th {\n",
       "        vertical-align: top;\n",
       "    }\n",
       "\n",
       "    .dataframe thead th {\n",
       "        text-align: right;\n",
       "    }\n",
       "</style>\n",
       "<table border=\"1\" class=\"dataframe\">\n",
       "  <thead>\n",
       "    <tr style=\"text-align: right;\">\n",
       "      <th></th>\n",
       "      <th>articleTitle</th>\n",
       "      <th>question</th>\n",
       "      <th>answer</th>\n",
       "      <th>difficultyFromQuestioner</th>\n",
       "      <th>difficultyFromAnswerer</th>\n",
       "      <th>articleFile</th>\n",
       "    </tr>\n",
       "  </thead>\n",
       "  <tbody>\n",
       "    <tr>\n",
       "      <th>0</th>\n",
       "      <td>Alessandro_Volta</td>\n",
       "      <td>Was Alessandro Volta a professor of chemistry?</td>\n",
       "      <td>Alessandro Volta was not a professor of chemistry.</td>\n",
       "      <td>easy</td>\n",
       "      <td>easy</td>\n",
       "      <td>S10_set4_a10</td>\n",
       "    </tr>\n",
       "    <tr>\n",
       "      <th>2</th>\n",
       "      <td>Alessandro_Volta</td>\n",
       "      <td>Did Alessandro Volta invent the remotely operated pistol?</td>\n",
       "      <td>Alessandro Volta did invent the remotely operated pistol.</td>\n",
       "      <td>easy</td>\n",
       "      <td>easy</td>\n",
       "      <td>S10_set4_a10</td>\n",
       "    </tr>\n",
       "    <tr>\n",
       "      <th>4</th>\n",
       "      <td>Alessandro_Volta</td>\n",
       "      <td>Was Alessandro Volta taught in public schools?</td>\n",
       "      <td>Volta was taught in public schools.</td>\n",
       "      <td>easy</td>\n",
       "      <td>easy</td>\n",
       "      <td>S10_set4_a10</td>\n",
       "    </tr>\n",
       "    <tr>\n",
       "      <th>6</th>\n",
       "      <td>Alessandro_Volta</td>\n",
       "      <td>Who did Alessandro Volta marry?</td>\n",
       "      <td>Alessandro Volta married Teresa Peregrini.</td>\n",
       "      <td>medium</td>\n",
       "      <td>medium</td>\n",
       "      <td>S10_set4_a10</td>\n",
       "    </tr>\n",
       "    <tr>\n",
       "      <th>8</th>\n",
       "      <td>Alessandro_Volta</td>\n",
       "      <td>What did Alessandro Volta invent in 1800?</td>\n",
       "      <td>In 1800, Alessandro Volta invented the voltaic pile.</td>\n",
       "      <td>medium</td>\n",
       "      <td>easy</td>\n",
       "      <td>S10_set4_a10</td>\n",
       "    </tr>\n",
       "  </tbody>\n",
       "</table>\n",
       "</div>"
      ],
      "text/plain": [
       "       articleTitle  \\\n",
       "0  Alessandro_Volta   \n",
       "2  Alessandro_Volta   \n",
       "4  Alessandro_Volta   \n",
       "6  Alessandro_Volta   \n",
       "8  Alessandro_Volta   \n",
       "\n",
       "                                                    question  \\\n",
       "0             Was Alessandro Volta a professor of chemistry?   \n",
       "2  Did Alessandro Volta invent the remotely operated pistol?   \n",
       "4             Was Alessandro Volta taught in public schools?   \n",
       "6                            Who did Alessandro Volta marry?   \n",
       "8                  What did Alessandro Volta invent in 1800?   \n",
       "\n",
       "                                                      answer  \\\n",
       "0         Alessandro Volta was not a professor of chemistry.   \n",
       "2  Alessandro Volta did invent the remotely operated pistol.   \n",
       "4                        Volta was taught in public schools.   \n",
       "6                 Alessandro Volta married Teresa Peregrini.   \n",
       "8       In 1800, Alessandro Volta invented the voltaic pile.   \n",
       "\n",
       "  difficultyFromQuestioner difficultyFromAnswerer   articleFile  \n",
       "0                     easy                   easy  S10_set4_a10  \n",
       "2                     easy                   easy  S10_set4_a10  \n",
       "4                     easy                   easy  S10_set4_a10  \n",
       "6                   medium                 medium  S10_set4_a10  \n",
       "8                   medium                   easy  S10_set4_a10  "
      ]
     },
     "execution_count": 8,
     "metadata": {},
     "output_type": "execute_result"
    }
   ],
   "source": [
    "pd.options.display.max_colwidth=None\n",
    "df.head()"
   ]
  },
  {
   "cell_type": "markdown",
   "metadata": {},
   "source": [
    "# Load Q/A model from hugging face and start predicting"
   ]
  },
  {
   "cell_type": "code",
   "execution_count": 9,
   "metadata": {},
   "outputs": [
    {
     "name": "stderr",
     "output_type": "stream",
     "text": [
      "No model was supplied, defaulted to distilbert-base-cased-distilled-squad and revision 626af31 (https://huggingface.co/distilbert-base-cased-distilled-squad).\n",
      "Using a pipeline without specifying a model name and revision in production is not recommended.\n"
     ]
    },
    {
     "data": {
      "application/vnd.jupyter.widget-view+json": {
       "model_id": "ea6487b6c73e4537bf91301568f75fa8",
       "version_major": 2,
       "version_minor": 0
      },
      "text/plain": [
       "HBox(children=(FloatProgress(value=0.0, description='Downloading (…)lve/main/config.json', max=473.0, style=Pr…"
      ]
     },
     "metadata": {},
     "output_type": "display_data"
    },
    {
     "name": "stdout",
     "output_type": "stream",
     "text": [
      "\n"
     ]
    },
    {
     "name": "stderr",
     "output_type": "stream",
     "text": [
      "C:\\Users\\Sudharsan Ramesh\\anaconda3\\lib\\site-packages\\huggingface_hub\\file_download.py:133: UserWarning: `huggingface_hub` cache-system uses symlinks by default to efficiently store duplicated files but your machine does not support them in C:\\Users\\Sudharsan Ramesh\\.cache\\huggingface\\hub. Caching files will still work but in a degraded version that might require more space on your disk. This warning can be disabled by setting the `HF_HUB_DISABLE_SYMLINKS_WARNING` environment variable. For more details, see https://huggingface.co/docs/huggingface_hub/how-to-cache#limitations.\n",
      "To support symlinks on Windows, you either need to activate Developer Mode or to run Python as an administrator. In order to see activate developer mode, see this article: https://docs.microsoft.com/en-us/windows/apps/get-started/enable-your-device-for-development\n",
      "  warnings.warn(message)\n"
     ]
    },
    {
     "data": {
      "application/vnd.jupyter.widget-view+json": {
       "model_id": "df59d80c8d2e4954a08b8c4ed254a9f7",
       "version_major": 2,
       "version_minor": 0
      },
      "text/plain": [
       "HBox(children=(FloatProgress(value=0.0, description='Downloading pytorch_model.bin', max=260793700.0, style=Pr…"
      ]
     },
     "metadata": {},
     "output_type": "display_data"
    },
    {
     "name": "stdout",
     "output_type": "stream",
     "text": [
      "\n"
     ]
    },
    {
     "data": {
      "application/vnd.jupyter.widget-view+json": {
       "model_id": "7812a6f0a7d94df3b5b023bb46eb3b2e",
       "version_major": 2,
       "version_minor": 0
      },
      "text/plain": [
       "HBox(children=(FloatProgress(value=0.0, description='Downloading (…)okenizer_config.json', max=29.0, style=Pro…"
      ]
     },
     "metadata": {},
     "output_type": "display_data"
    },
    {
     "name": "stdout",
     "output_type": "stream",
     "text": [
      "\n"
     ]
    },
    {
     "data": {
      "application/vnd.jupyter.widget-view+json": {
       "model_id": "d7edabfb32344c61beda6d67bf29f041",
       "version_major": 2,
       "version_minor": 0
      },
      "text/plain": [
       "HBox(children=(FloatProgress(value=0.0, description='Downloading (…)solve/main/vocab.txt', max=213450.0, style…"
      ]
     },
     "metadata": {},
     "output_type": "display_data"
    },
    {
     "name": "stdout",
     "output_type": "stream",
     "text": [
      "\n"
     ]
    },
    {
     "data": {
      "application/vnd.jupyter.widget-view+json": {
       "model_id": "9306f95a1e9a414ba056c3a7c13c09be",
       "version_major": 2,
       "version_minor": 0
      },
      "text/plain": [
       "HBox(children=(FloatProgress(value=0.0, description='Downloading (…)/main/tokenizer.json', max=435797.0, style…"
      ]
     },
     "metadata": {},
     "output_type": "display_data"
    },
    {
     "name": "stdout",
     "output_type": "stream",
     "text": [
      "\n"
     ]
    }
   ],
   "source": [
    "#So, from now on we want to be able to answer the questions in the dataset and compare those answers provided by the model with those provided by the human answerer\n",
    "\n",
    "# load question-answering model\n",
    "\n",
    "from transformers import pipeline\n",
    "qa_model = pipeline(\"question-answering\")"
   ]
  },
  {
   "cell_type": "code",
   "execution_count": 11,
   "metadata": {},
   "outputs": [],
   "source": [
    "def answer_question_given_article(question, article_name):\n",
    "    '''\n",
    "    given the question, read the article and use it as a context and return a dictionary with an \n",
    "    answer and a score and the position of the answer in the article\n",
    "    '''\n",
    "    folder_name = 'D:/Semester 2/ENFUSE/data/text_data'\n",
    "    article_file = str(df[df.articleTitle==article_name].articleFile.unique()[0]) + '.txt.clean'\n",
    "    article_path = os.path.join(folder_name, article_file)\n",
    "    \n",
    "    with open(article_path, 'r', encoding='utf-8') as file:\n",
    "        context = file.read().replace('\\n', '')\n",
    "        \n",
    "    return qa_model(question, context)\n",
    "\n"
   ]
  },
  {
   "cell_type": "code",
   "execution_count": 12,
   "metadata": {},
   "outputs": [
    {
     "name": "stdout",
     "output_type": "stream",
     "text": [
      "Wall time: 25.5 s\n"
     ]
    },
    {
     "data": {
      "text/plain": [
       "{'score': 0.8335651159286499,\n",
       " 'start': 3262,\n",
       " 'end': 3281,\n",
       " 'answer': 'Sir James Lancaster'}"
      ]
     },
     "execution_count": 12,
     "metadata": {},
     "output_type": "execute_result"
    }
   ],
   "source": [
    "%%time\n",
    "\n",
    "# question example and the time it takes to answer it\n",
    "question_example = \"\"\"In 1602, the British East India Company's first voyage, commanded by Sir who, arrived in Aceh and sailed on to Banten where they were allowed to build a trading post?\"\"\"\n",
    "answer_question_given_article(question_example, \"Jakarta\")"
   ]
  },
  {
   "cell_type": "code",
   "execution_count": 13,
   "metadata": {},
   "outputs": [
    {
     "data": {
      "text/html": [
       "<div>\n",
       "<style scoped>\n",
       "    .dataframe tbody tr th:only-of-type {\n",
       "        vertical-align: middle;\n",
       "    }\n",
       "\n",
       "    .dataframe tbody tr th {\n",
       "        vertical-align: top;\n",
       "    }\n",
       "\n",
       "    .dataframe thead th {\n",
       "        text-align: right;\n",
       "    }\n",
       "</style>\n",
       "<table border=\"1\" class=\"dataframe\">\n",
       "  <thead>\n",
       "    <tr style=\"text-align: right;\">\n",
       "      <th></th>\n",
       "      <th>articleTitle</th>\n",
       "      <th>question</th>\n",
       "      <th>answer</th>\n",
       "      <th>difficultyFromQuestioner</th>\n",
       "      <th>difficultyFromAnswerer</th>\n",
       "      <th>articleFile</th>\n",
       "    </tr>\n",
       "  </thead>\n",
       "  <tbody>\n",
       "    <tr>\n",
       "      <th>663</th>\n",
       "      <td>Jakarta</td>\n",
       "      <td>In 1602, the British East India Company's first voyage, commanded by Sir who, arrived in Aceh and sailed on to Banten where they were allowed to build a trading post?</td>\n",
       "      <td>James Lancaster</td>\n",
       "      <td>NaN</td>\n",
       "      <td>medium</td>\n",
       "      <td>S10_set3_a5</td>\n",
       "    </tr>\n",
       "  </tbody>\n",
       "</table>\n",
       "</div>"
      ],
      "text/plain": [
       "    articleTitle  \\\n",
       "663      Jakarta   \n",
       "\n",
       "                                                                                                                                                                   question  \\\n",
       "663  In 1602, the British East India Company's first voyage, commanded by Sir who, arrived in Aceh and sailed on to Banten where they were allowed to build a trading post?   \n",
       "\n",
       "              answer difficultyFromQuestioner difficultyFromAnswerer  \\\n",
       "663  James Lancaster                      NaN                 medium   \n",
       "\n",
       "     articleFile  \n",
       "663  S10_set3_a5  "
      ]
     },
     "execution_count": 13,
     "metadata": {},
     "output_type": "execute_result"
    }
   ],
   "source": [
    "df[df.question==question_example]"
   ]
  },
  {
   "cell_type": "code",
   "execution_count": 14,
   "metadata": {},
   "outputs": [],
   "source": [
    "# Apply the answering function on a small sample of 20 questions\n",
    "df_sample = df.sample(30)\n",
    "\n",
    "# complete answer\n",
    "df_sample['answer_from_model'] = df_sample.apply(lambda x: answer_question_given_article(x.question, x.articleTitle), axis=1)\n",
    "\n",
    "# extract the exact answer \n",
    "df_sample['models_answer'] = df_sample['answer_from_model'].map(lambda x:x['answer'])\n",
    "\n",
    "# extract the score (confidence of the model)\n",
    "df_sample['models_score'] = df_sample['answer_from_model'].map(lambda x:x['score'])"
   ]
  },
  {
   "cell_type": "code",
   "execution_count": 15,
   "metadata": {},
   "outputs": [
    {
     "data": {
      "text/html": [
       "<div>\n",
       "<style scoped>\n",
       "    .dataframe tbody tr th:only-of-type {\n",
       "        vertical-align: middle;\n",
       "    }\n",
       "\n",
       "    .dataframe tbody tr th {\n",
       "        vertical-align: top;\n",
       "    }\n",
       "\n",
       "    .dataframe thead th {\n",
       "        text-align: right;\n",
       "    }\n",
       "</style>\n",
       "<table border=\"1\" class=\"dataframe\">\n",
       "  <thead>\n",
       "    <tr style=\"text-align: right;\">\n",
       "      <th></th>\n",
       "      <th>question</th>\n",
       "      <th>answer</th>\n",
       "      <th>models_answer</th>\n",
       "      <th>models_score</th>\n",
       "    </tr>\n",
       "  </thead>\n",
       "  <tbody>\n",
       "    <tr>\n",
       "      <th>743</th>\n",
       "      <td>What percentage of the Korean language does Jeong Jae-do estimate to be Sino-Korean?</td>\n",
       "      <td>Sino-Korean makes up 30% of the Korean language.</td>\n",
       "      <td>70%</td>\n",
       "      <td>0.855748</td>\n",
       "    </tr>\n",
       "    <tr>\n",
       "      <th>104</th>\n",
       "      <td>What are the ant colonies that lack queens called?</td>\n",
       "      <td>Colonies that lack queens are called gamergate colonies.</td>\n",
       "      <td>ergatoids</td>\n",
       "      <td>0.973056</td>\n",
       "    </tr>\n",
       "    <tr>\n",
       "      <th>188</th>\n",
       "      <td>What are the names of the two zoos in Berlin?</td>\n",
       "      <td>The two zoos in Berlin are the Zoologischer Garten Berlin and the Tierpark Friedrichsfelde.</td>\n",
       "      <td>Zoologischer Garten Berlin</td>\n",
       "      <td>0.856098</td>\n",
       "    </tr>\n",
       "    <tr>\n",
       "      <th>1227</th>\n",
       "      <td>Which is the sub-Saharan indigenous language with the greatest number of speakers?</td>\n",
       "      <td>Hausa of West Africa is the sub-Saharan indigenous language with the greatest number of speakers.</td>\n",
       "      <td>Hausa of West Africa</td>\n",
       "      <td>0.832620</td>\n",
       "    </tr>\n",
       "    <tr>\n",
       "      <th>883</th>\n",
       "      <td>What is a resident of Melbourne known as?</td>\n",
       "      <td>Melburnian</td>\n",
       "      <td>Scotch College</td>\n",
       "      <td>0.875224</td>\n",
       "    </tr>\n",
       "  </tbody>\n",
       "</table>\n",
       "</div>"
      ],
      "text/plain": [
       "                                                                                  question  \\\n",
       "743   What percentage of the Korean language does Jeong Jae-do estimate to be Sino-Korean?   \n",
       "104                                     What are the ant colonies that lack queens called?   \n",
       "188                                          What are the names of the two zoos in Berlin?   \n",
       "1227    Which is the sub-Saharan indigenous language with the greatest number of speakers?   \n",
       "883                                              What is a resident of Melbourne known as?   \n",
       "\n",
       "                                                                                                 answer  \\\n",
       "743                                                    Sino-Korean makes up 30% of the Korean language.   \n",
       "104                                            Colonies that lack queens are called gamergate colonies.   \n",
       "188         The two zoos in Berlin are the Zoologischer Garten Berlin and the Tierpark Friedrichsfelde.   \n",
       "1227  Hausa of West Africa is the sub-Saharan indigenous language with the greatest number of speakers.   \n",
       "883                                                                                          Melburnian   \n",
       "\n",
       "                   models_answer  models_score  \n",
       "743                          70%      0.855748  \n",
       "104                    ergatoids      0.973056  \n",
       "188   Zoologischer Garten Berlin      0.856098  \n",
       "1227        Hausa of West Africa      0.832620  \n",
       "883               Scotch College      0.875224  "
      ]
     },
     "execution_count": 15,
     "metadata": {},
     "output_type": "execute_result"
    }
   ],
   "source": [
    "cols_of_interst = ['question','answer','models_answer','models_score']\n",
    "df_sample.head()[cols_of_interst]"
   ]
  },
  {
   "cell_type": "markdown",
   "metadata": {},
   "source": [
    "# Let's compare the model's answer with the answer provided in the dataset. To do so, we compute sentences similarity"
   ]
  },
  {
   "cell_type": "code",
   "execution_count": 16,
   "metadata": {},
   "outputs": [
    {
     "name": "stderr",
     "output_type": "stream",
     "text": [
      "Keyring is skipped due to an exception: 'keyring.backends'\n"
     ]
    }
   ],
   "source": [
    "!pip install -Uq sentence-transformers"
   ]
  },
  {
   "cell_type": "code",
   "execution_count": 17,
   "metadata": {},
   "outputs": [],
   "source": [
    "def how_similar(sent1, sent2, model):\n",
    "    '''\n",
    "    compute sentence similarity. \n",
    "    '''\n",
    "    #Compute embedding for both lists\n",
    "    embedding_1= model.encode(str(sent1), convert_to_tensor=True)\n",
    "    embedding_2 = model.encode(str(sent2), convert_to_tensor=True)\n",
    "    return util.pytorch_cos_sim(embedding_1, embedding_2).item()\n",
    "from sentence_transformers import SentenceTransformer, util\n",
    "model = SentenceTransformer('sentence-transformers/all-MiniLM-L6-v2')\n",
    "df_sample['answers_similarity'] = df_sample.apply(lambda x: how_similar\n",
    "            (x.answer, x.models_answer, model=model), axis=1)"
   ]
  },
  {
   "cell_type": "code",
   "execution_count": 18,
   "metadata": {},
   "outputs": [
    {
     "data": {
      "text/html": [
       "<div>\n",
       "<style scoped>\n",
       "    .dataframe tbody tr th:only-of-type {\n",
       "        vertical-align: middle;\n",
       "    }\n",
       "\n",
       "    .dataframe tbody tr th {\n",
       "        vertical-align: top;\n",
       "    }\n",
       "\n",
       "    .dataframe thead th {\n",
       "        text-align: right;\n",
       "    }\n",
       "</style>\n",
       "<table border=\"1\" class=\"dataframe\">\n",
       "  <thead>\n",
       "    <tr style=\"text-align: right;\">\n",
       "      <th></th>\n",
       "      <th>question</th>\n",
       "      <th>answer</th>\n",
       "      <th>models_answer</th>\n",
       "      <th>answers_similarity</th>\n",
       "    </tr>\n",
       "  </thead>\n",
       "  <tbody>\n",
       "    <tr>\n",
       "      <th>557</th>\n",
       "      <td>How many strings does a guitar typically have?</td>\n",
       "      <td>Six</td>\n",
       "      <td>six</td>\n",
       "      <td>1.000000</td>\n",
       "    </tr>\n",
       "    <tr>\n",
       "      <th>454</th>\n",
       "      <td>What are characteristic features of Finnish?</td>\n",
       "      <td>Vowel harmony and an agglutinative morphology</td>\n",
       "      <td>vowel harmony and an agglutinative morphology</td>\n",
       "      <td>1.000000</td>\n",
       "    </tr>\n",
       "    <tr>\n",
       "      <th>574</th>\n",
       "      <td>Whom did he share the Nobel Prize with?</td>\n",
       "      <td>Pierre and Marie Curie</td>\n",
       "      <td>Pierre and Marie Curie</td>\n",
       "      <td>1.000000</td>\n",
       "    </tr>\n",
       "    <tr>\n",
       "      <th>636</th>\n",
       "      <td>What is the capital of Indonesia?</td>\n",
       "      <td>Jakarta</td>\n",
       "      <td>Jakarta</td>\n",
       "      <td>1.000000</td>\n",
       "    </tr>\n",
       "    <tr>\n",
       "      <th>1319</th>\n",
       "      <td>Why does Lewis use \"absolute case\" instead of \"nominative\"?</td>\n",
       "      <td>Because it is also used for the indefinite accusative.</td>\n",
       "      <td>Because it is also used for the indefinite accusative</td>\n",
       "      <td>0.993120</td>\n",
       "    </tr>\n",
       "    <tr>\n",
       "      <th>958</th>\n",
       "      <td>Is the most popular sport in Montreal ice hockey?</td>\n",
       "      <td>yes, The most popular sport in Montreal is ice hockey.</td>\n",
       "      <td>The most popular sport in Montreal is ice hockey</td>\n",
       "      <td>0.959829</td>\n",
       "    </tr>\n",
       "    <tr>\n",
       "      <th>1289</th>\n",
       "      <td>What can be augmented with a fourth valve?</td>\n",
       "      <td>the flugelhorn</td>\n",
       "      <td>flugelhorn</td>\n",
       "      <td>0.951683</td>\n",
       "    </tr>\n",
       "    <tr>\n",
       "      <th>1206</th>\n",
       "      <td>When did it sign on the air?</td>\n",
       "      <td>In 1941.</td>\n",
       "      <td>1941</td>\n",
       "      <td>0.862639</td>\n",
       "    </tr>\n",
       "    <tr>\n",
       "      <th>401</th>\n",
       "      <td>Whare is the name for drums that have a S10_set of wires held across some of all of the drum heads?</td>\n",
       "      <td>snares</td>\n",
       "      <td>snare drum</td>\n",
       "      <td>0.859701</td>\n",
       "    </tr>\n",
       "    <tr>\n",
       "      <th>565</th>\n",
       "      <td>How old is the oldest known representation of a guitar-like intrument being played?</td>\n",
       "      <td>3,300 years old</td>\n",
       "      <td>3,300 year</td>\n",
       "      <td>0.834975</td>\n",
       "    </tr>\n",
       "    <tr>\n",
       "      <th>669</th>\n",
       "      <td>Give an example of the many Sukarno era monuments in the city.</td>\n",
       "      <td>The West Irian Liberation Statue is one of the many Sukarno era monuments in the city.</td>\n",
       "      <td>West Irian Liberation Statue</td>\n",
       "      <td>0.806754</td>\n",
       "    </tr>\n",
       "    <tr>\n",
       "      <th>188</th>\n",
       "      <td>What are the names of the two zoos in Berlin?</td>\n",
       "      <td>The two zoos in Berlin are the Zoologischer Garten Berlin and the Tierpark Friedrichsfelde.</td>\n",
       "      <td>Zoologischer Garten Berlin</td>\n",
       "      <td>0.786883</td>\n",
       "    </tr>\n",
       "    <tr>\n",
       "      <th>1227</th>\n",
       "      <td>Which is the sub-Saharan indigenous language with the greatest number of speakers?</td>\n",
       "      <td>Hausa of West Africa is the sub-Saharan indigenous language with the greatest number of speakers.</td>\n",
       "      <td>Hausa of West Africa</td>\n",
       "      <td>0.747628</td>\n",
       "    </tr>\n",
       "    <tr>\n",
       "      <th>737</th>\n",
       "      <td>What is the Sino-Korean system of numbers based on?</td>\n",
       "      <td>The Sino-Korean system is nearly entirely based on the Chinese numerals.</td>\n",
       "      <td>Chinese numerals</td>\n",
       "      <td>0.632104</td>\n",
       "    </tr>\n",
       "    <tr>\n",
       "      <th>1402</th>\n",
       "      <td>Is it the smallest and highest-pitched member of the violin family of string instruments, which also includes the viola and cello?</td>\n",
       "      <td>Yes, it is the smallest and highest-pitched member of the violin family of string instruments, which also includes the viola and cello.</td>\n",
       "      <td>ViolinThe violin</td>\n",
       "      <td>0.619177</td>\n",
       "    </tr>\n",
       "    <tr>\n",
       "      <th>714</th>\n",
       "      <td>Were the koalas of South Australia largely exterminated during the early part of the 20th century, but the state has since been repopulated with Victorian stock?</td>\n",
       "      <td>The koalas of South Australia were largely exterminated during the early part of the 20th century, but the state has since been repopulated with Victorian stock.</td>\n",
       "      <td>the state has since been repopulated with Victorian stock</td>\n",
       "      <td>0.512468</td>\n",
       "    </tr>\n",
       "    <tr>\n",
       "      <th>243</th>\n",
       "      <td>What butterfly is migratory?</td>\n",
       "      <td>The Monarch butterfly is migratory.</td>\n",
       "      <td>Monarch</td>\n",
       "      <td>0.489592</td>\n",
       "    </tr>\n",
       "    <tr>\n",
       "      <th>112</th>\n",
       "      <td>Do all ants build nests?</td>\n",
       "      <td>No, not all ants build nests.</td>\n",
       "      <td>it can make nests between sheets of paper.</td>\n",
       "      <td>0.457675</td>\n",
       "    </tr>\n",
       "    <tr>\n",
       "      <th>494</th>\n",
       "      <td>How does a flute player change the pitch of the sound?</td>\n",
       "      <td>by opening and closing holes in the body of the instrument</td>\n",
       "      <td>from the flow of air against an edge</td>\n",
       "      <td>0.361628</td>\n",
       "    </tr>\n",
       "    <tr>\n",
       "      <th>108</th>\n",
       "      <td>Do ants belong to the same order as bees?</td>\n",
       "      <td>Yes, ants belong to the same order as bees.</td>\n",
       "      <td>Hymenoptera</td>\n",
       "      <td>0.290460</td>\n",
       "    </tr>\n",
       "    <tr>\n",
       "      <th>743</th>\n",
       "      <td>What percentage of the Korean language does Jeong Jae-do estimate to be Sino-Korean?</td>\n",
       "      <td>Sino-Korean makes up 30% of the Korean language.</td>\n",
       "      <td>70%</td>\n",
       "      <td>0.277722</td>\n",
       "    </tr>\n",
       "    <tr>\n",
       "      <th>1002</th>\n",
       "      <td>Did Nikola Tesla use a technique called picture thinking?</td>\n",
       "      <td>Nikola Tesla used a technique called picture thinking.</td>\n",
       "      <td>Talking with Planets</td>\n",
       "      <td>0.215647</td>\n",
       "    </tr>\n",
       "    <tr>\n",
       "      <th>1004</th>\n",
       "      <td>When did Nikola Tesla appear on the cover of Time Magazine?</td>\n",
       "      <td>On Tesla's 75th birthday in 1931, Time magazine put him on its cover.</td>\n",
       "      <td>October 1998</td>\n",
       "      <td>0.174317</td>\n",
       "    </tr>\n",
       "    <tr>\n",
       "      <th>883</th>\n",
       "      <td>What is a resident of Melbourne known as?</td>\n",
       "      <td>Melburnian</td>\n",
       "      <td>Scotch College</td>\n",
       "      <td>0.173792</td>\n",
       "    </tr>\n",
       "    <tr>\n",
       "      <th>345</th>\n",
       "      <td>What part of the cymbal is the bell?</td>\n",
       "      <td>The center of a Cymbal</td>\n",
       "      <td>Orchestral</td>\n",
       "      <td>0.167554</td>\n",
       "    </tr>\n",
       "    <tr>\n",
       "      <th>1334</th>\n",
       "      <td>What are the patterns of vowel harmony?</td>\n",
       "      <td>Vowels are characterised by two features: front/back and rounded/unrounded.</td>\n",
       "      <td>agglutination, and lack of grammatical gender</td>\n",
       "      <td>0.167217</td>\n",
       "    </tr>\n",
       "    <tr>\n",
       "      <th>104</th>\n",
       "      <td>What are the ant colonies that lack queens called?</td>\n",
       "      <td>Colonies that lack queens are called gamergate colonies.</td>\n",
       "      <td>ergatoids</td>\n",
       "      <td>0.162214</td>\n",
       "    </tr>\n",
       "    <tr>\n",
       "      <th>930</th>\n",
       "      <td>Wasn't Michelangelo a homosexual?</td>\n",
       "      <td>It is not clear.</td>\n",
       "      <td>Clarendon Press.* \"The Divine Michelangelo</td>\n",
       "      <td>0.099436</td>\n",
       "    </tr>\n",
       "    <tr>\n",
       "      <th>302</th>\n",
       "      <td>How is South China linguistically different from North China?</td>\n",
       "      <td>South China displays more linguistic diversity</td>\n",
       "      <td>depending on how one counts</td>\n",
       "      <td>0.086781</td>\n",
       "    </tr>\n",
       "    <tr>\n",
       "      <th>954</th>\n",
       "      <td>Is English the language most often spoken in Montreal?</td>\n",
       "      <td>The language most spoken at home in the city is French.</td>\n",
       "      <td>13.2%</td>\n",
       "      <td>0.012757</td>\n",
       "    </tr>\n",
       "  </tbody>\n",
       "</table>\n",
       "</div>"
      ],
      "text/plain": [
       "                                                                                                                                                               question  \\\n",
       "557                                                                                                                      How many strings does a guitar typically have?   \n",
       "454                                                                                                                        What are characteristic features of Finnish?   \n",
       "574                                                                                                                             Whom did he share the Nobel Prize with?   \n",
       "636                                                                                                                                   What is the capital of Indonesia?   \n",
       "1319                                                                                                        Why does Lewis use \"absolute case\" instead of \"nominative\"?   \n",
       "958                                                                                                                   Is the most popular sport in Montreal ice hockey?   \n",
       "1289                                                                                                                         What can be augmented with a fourth valve?   \n",
       "1206                                                                                                                                       When did it sign on the air?   \n",
       "401                                                                 Whare is the name for drums that have a S10_set of wires held across some of all of the drum heads?   \n",
       "565                                                                                 How old is the oldest known representation of a guitar-like intrument being played?   \n",
       "669                                                                                                     Give an example of the many Sukarno era monuments in the city.    \n",
       "188                                                                                                                       What are the names of the two zoos in Berlin?   \n",
       "1227                                                                                 Which is the sub-Saharan indigenous language with the greatest number of speakers?   \n",
       "737                                                                                                                 What is the Sino-Korean system of numbers based on?   \n",
       "1402                                 Is it the smallest and highest-pitched member of the violin family of string instruments, which also includes the viola and cello?   \n",
       "714   Were the koalas of South Australia largely exterminated during the early part of the 20th century, but the state has since been repopulated with Victorian stock?   \n",
       "243                                                                                                                                        What butterfly is migratory?   \n",
       "112                                                                                                                                            Do all ants build nests?   \n",
       "494                                                                                                              How does a flute player change the pitch of the sound?   \n",
       "108                                                                                                                           Do ants belong to the same order as bees?   \n",
       "743                                                                                What percentage of the Korean language does Jeong Jae-do estimate to be Sino-Korean?   \n",
       "1002                                                                                                          Did Nikola Tesla use a technique called picture thinking?   \n",
       "1004                                                                                                        When did Nikola Tesla appear on the cover of Time Magazine?   \n",
       "883                                                                                                                           What is a resident of Melbourne known as?   \n",
       "345                                                                                                                                What part of the cymbal is the bell?   \n",
       "1334                                                                                                                            What are the patterns of vowel harmony?   \n",
       "104                                                                                                                  What are the ant colonies that lack queens called?   \n",
       "930                                                                                                                                   Wasn't Michelangelo a homosexual?   \n",
       "302                                                                                                       How is South China linguistically different from North China?   \n",
       "954                                                                                                              Is English the language most often spoken in Montreal?   \n",
       "\n",
       "                                                                                                                                                                 answer  \\\n",
       "557                                                                                                                                                                 Six   \n",
       "454                                                                                                                       Vowel harmony and an agglutinative morphology   \n",
       "574                                                                                                                                              Pierre and Marie Curie   \n",
       "636                                                                                                                                                             Jakarta   \n",
       "1319                                                                                                             Because it is also used for the indefinite accusative.   \n",
       "958                                                                                                              yes, The most popular sport in Montreal is ice hockey.   \n",
       "1289                                                                                                                                                     the flugelhorn   \n",
       "1206                                                                                                                                                           In 1941.   \n",
       "401                                                                                                                                                              snares   \n",
       "565                                                                                                                                                     3,300 years old   \n",
       "669                                                                             The West Irian Liberation Statue is one of the many Sukarno era monuments in the city.    \n",
       "188                                                                         The two zoos in Berlin are the Zoologischer Garten Berlin and the Tierpark Friedrichsfelde.   \n",
       "1227                                                                  Hausa of West Africa is the sub-Saharan indigenous language with the greatest number of speakers.   \n",
       "737                                                                                            The Sino-Korean system is nearly entirely based on the Chinese numerals.   \n",
       "1402                            Yes, it is the smallest and highest-pitched member of the violin family of string instruments, which also includes the viola and cello.   \n",
       "714   The koalas of South Australia were largely exterminated during the early part of the 20th century, but the state has since been repopulated with Victorian stock.   \n",
       "243                                                                                                                                 The Monarch butterfly is migratory.   \n",
       "112                                                                                                                                       No, not all ants build nests.   \n",
       "494                                                                                                          by opening and closing holes in the body of the instrument   \n",
       "108                                                                                                                         Yes, ants belong to the same order as bees.   \n",
       "743                                                                                                                    Sino-Korean makes up 30% of the Korean language.   \n",
       "1002                                                                                                             Nikola Tesla used a technique called picture thinking.   \n",
       "1004                                                                                              On Tesla's 75th birthday in 1931, Time magazine put him on its cover.   \n",
       "883                                                                                                                                                          Melburnian   \n",
       "345                                                                                                                                              The center of a Cymbal   \n",
       "1334                                                                                        Vowels are characterised by two features: front/back and rounded/unrounded.   \n",
       "104                                                                                                            Colonies that lack queens are called gamergate colonies.   \n",
       "930                                                                                                                                                    It is not clear.   \n",
       "302                                                                                                                      South China displays more linguistic diversity   \n",
       "954                                                                                                             The language most spoken at home in the city is French.   \n",
       "\n",
       "                                                  models_answer  \\\n",
       "557                                                         six   \n",
       "454               vowel harmony and an agglutinative morphology   \n",
       "574                                      Pierre and Marie Curie   \n",
       "636                                                     Jakarta   \n",
       "1319      Because it is also used for the indefinite accusative   \n",
       "958            The most popular sport in Montreal is ice hockey   \n",
       "1289                                                 flugelhorn   \n",
       "1206                                                       1941   \n",
       "401                                                  snare drum   \n",
       "565                                                  3,300 year   \n",
       "669                                West Irian Liberation Statue   \n",
       "188                                  Zoologischer Garten Berlin   \n",
       "1227                                       Hausa of West Africa   \n",
       "737                                            Chinese numerals   \n",
       "1402                                           ViolinThe violin   \n",
       "714   the state has since been repopulated with Victorian stock   \n",
       "243                                                     Monarch   \n",
       "112                  it can make nests between sheets of paper.   \n",
       "494                        from the flow of air against an edge   \n",
       "108                                                 Hymenoptera   \n",
       "743                                                         70%   \n",
       "1002                                       Talking with Planets   \n",
       "1004                                               October 1998   \n",
       "883                                              Scotch College   \n",
       "345                                                  Orchestral   \n",
       "1334              agglutination, and lack of grammatical gender   \n",
       "104                                                   ergatoids   \n",
       "930                  Clarendon Press.* \"The Divine Michelangelo   \n",
       "302                                 depending on how one counts   \n",
       "954                                                       13.2%   \n",
       "\n",
       "      answers_similarity  \n",
       "557             1.000000  \n",
       "454             1.000000  \n",
       "574             1.000000  \n",
       "636             1.000000  \n",
       "1319            0.993120  \n",
       "958             0.959829  \n",
       "1289            0.951683  \n",
       "1206            0.862639  \n",
       "401             0.859701  \n",
       "565             0.834975  \n",
       "669             0.806754  \n",
       "188             0.786883  \n",
       "1227            0.747628  \n",
       "737             0.632104  \n",
       "1402            0.619177  \n",
       "714             0.512468  \n",
       "243             0.489592  \n",
       "112             0.457675  \n",
       "494             0.361628  \n",
       "108             0.290460  \n",
       "743             0.277722  \n",
       "1002            0.215647  \n",
       "1004            0.174317  \n",
       "883             0.173792  \n",
       "345             0.167554  \n",
       "1334            0.167217  \n",
       "104             0.162214  \n",
       "930             0.099436  \n",
       "302             0.086781  \n",
       "954             0.012757  "
      ]
     },
     "execution_count": 18,
     "metadata": {},
     "output_type": "execute_result"
    }
   ],
   "source": [
    "# let's inspect \n",
    "df_sample[['question','answer','models_answer','answers_similarity']]\n",
    ".sort_values(by='answers_similarity', ascending=False)"
   ]
  },
  {
   "cell_type": "code",
   "execution_count": 19,
   "metadata": {},
   "outputs": [
    {
     "data": {
      "text/plain": [
       "743                                                                                  What percentage of the Korean language does Jeong Jae-do estimate to be Sino-Korean?\n",
       "104                                                                                                                    What are the ant colonies that lack queens called?\n",
       "188                                                                                                                         What are the names of the two zoos in Berlin?\n",
       "1227                                                                                   Which is the sub-Saharan indigenous language with the greatest number of speakers?\n",
       "883                                                                                                                             What is a resident of Melbourne known as?\n",
       "1334                                                                                                                              What are the patterns of vowel harmony?\n",
       "1319                                                                                                          Why does Lewis use \"absolute case\" instead of \"nominative\"?\n",
       "669                                                                                                       Give an example of the many Sukarno era monuments in the city. \n",
       "1289                                                                                                                           What can be augmented with a fourth valve?\n",
       "954                                                                                                                Is English the language most often spoken in Montreal?\n",
       "401                                                                   Whare is the name for drums that have a S10_set of wires held across some of all of the drum heads?\n",
       "574                                                                                                                               Whom did he share the Nobel Prize with?\n",
       "714     Were the koalas of South Australia largely exterminated during the early part of the 20th century, but the state has since been repopulated with Victorian stock?\n",
       "112                                                                                                                                              Do all ants build nests?\n",
       "636                                                                                                                                     What is the capital of Indonesia?\n",
       "345                                                                                                                                  What part of the cymbal is the bell?\n",
       "930                                                                                                                                     Wasn't Michelangelo a homosexual?\n",
       "494                                                                                                                How does a flute player change the pitch of the sound?\n",
       "958                                                                                                                     Is the most popular sport in Montreal ice hockey?\n",
       "1402                                   Is it the smallest and highest-pitched member of the violin family of string instruments, which also includes the viola and cello?\n",
       "1004                                                                                                          When did Nikola Tesla appear on the cover of Time Magazine?\n",
       "565                                                                                   How old is the oldest known representation of a guitar-like intrument being played?\n",
       "1206                                                                                                                                         When did it sign on the air?\n",
       "302                                                                                                         How is South China linguistically different from North China?\n",
       "557                                                                                                                        How many strings does a guitar typically have?\n",
       "737                                                                                                                   What is the Sino-Korean system of numbers based on?\n",
       "243                                                                                                                                          What butterfly is migratory?\n",
       "454                                                                                                                          What are characteristic features of Finnish?\n",
       "108                                                                                                                             Do ants belong to the same order as bees?\n",
       "1002                                                                                                            Did Nikola Tesla use a technique called picture thinking?\n",
       "Name: question, dtype: object"
      ]
     },
     "execution_count": 19,
     "metadata": {},
     "output_type": "execute_result"
    }
   ],
   "source": [
    "#df['question']\n",
    "#df['answer']\n",
    "df_sample['question']\n",
    "\n",
    "#print(f\"Answer: {models_answer}\")"
   ]
  },
  {
   "cell_type": "code",
   "execution_count": null,
   "metadata": {},
   "outputs": [],
   "source": []
  }
 ],
 "metadata": {
  "kernelspec": {
   "display_name": "Python 3 (ipykernel)",
   "language": "python",
   "name": "python3"
  },
  "language_info": {
   "codemirror_mode": {
    "name": "ipython",
    "version": 3
   },
   "file_extension": ".py",
   "mimetype": "text/x-python",
   "name": "python",
   "nbconvert_exporter": "python",
   "pygments_lexer": "ipython3",
   "version": "3.9.12"
  }
 },
 "nbformat": 4,
 "nbformat_minor": 4
}
